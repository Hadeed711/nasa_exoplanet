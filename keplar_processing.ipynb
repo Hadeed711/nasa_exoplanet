{
 "cells": [
  {
   "cell_type": "code",
   "execution_count": 2,
   "id": "565109a0",
   "metadata": {},
   "outputs": [
    {
     "name": "stderr",
     "output_type": "stream",
     "text": [
      "c:\\Users\\hadee\\AppData\\Local\\Programs\\Python\\Python313\\Lib\\site-packages\\lightkurve\\prf\\__init__.py:7: UserWarning: Warning: the tpfmodel submodule is not available without oktopus installed, which requires a current version of autograd. See #1452 for details.\n",
      "  warnings.warn(\n"
     ]
    }
   ],
   "source": [
    "# Import core libraries\n",
    "import pandas as pd\n",
    "import numpy as np\n",
    "import matplotlib.pyplot as plt\n",
    "import seaborn as sns\n",
    "\n",
    "# For astronomical data (may use later in processing)\n",
    "from astropy.table import Table\n",
    "import lightkurve as lk\n",
    "\n",
    "# Configure visualization\n",
    "sns.set(style=\"whitegrid\")\n",
    "plt.rcParams[\"figure.figsize\"] = (10, 6)"
   ]
  },
  {
   "cell_type": "code",
   "execution_count": 10,
   "id": "abb07874",
   "metadata": {},
   "outputs": [
    {
     "name": "stdout",
     "output_type": "stream",
     "text": [
      "✅ Dataset successfully loaded and parsed!\n",
      "\n",
      "Shape: (9564, 141)\n",
      "Columns: ['rowid', 'kepid', 'kepoi_name', 'kepler_name', 'koi_disposition', 'koi_vet_stat', 'koi_vet_date', 'koi_pdisposition', 'koi_score', 'koi_fpflag_nt', 'koi_fpflag_ss', 'koi_fpflag_co', 'koi_fpflag_ec', 'koi_disp_prov', 'koi_comment'] ...\n",
      "\n",
      "First 5 rows of dataset:\n",
      "   rowid     kepid kepoi_name   kepler_name koi_disposition koi_vet_stat  \\\n",
      "0      1  10797460  K00752.01  Kepler-227 b       CONFIRMED         Done   \n",
      "1      2  10797460  K00752.02  Kepler-227 c       CONFIRMED         Done   \n",
      "2      3  10811496  K00753.01           NaN       CANDIDATE         Done   \n",
      "3      4  10848459  K00754.01           NaN  FALSE POSITIVE         Done   \n",
      "4      5  10854555  K00755.01  Kepler-664 b       CONFIRMED         Done   \n",
      "\n",
      "  koi_vet_date koi_pdisposition  koi_score  koi_fpflag_nt  ...  \\\n",
      "0   2018-08-16        CANDIDATE      1.000              0  ...   \n",
      "1   2018-08-16        CANDIDATE      0.969              0  ...   \n",
      "2   2018-08-16        CANDIDATE      0.000              0  ...   \n",
      "3   2018-08-16   FALSE POSITIVE      0.000              0  ...   \n",
      "4   2018-08-16        CANDIDATE      1.000              0  ...   \n",
      "\n",
      "   koi_dicco_mdec  koi_dicco_mdec_err  koi_dicco_msky koi_dicco_msky_err  \\\n",
      "0           0.200               0.160           0.200              0.170   \n",
      "1           0.000               0.480           0.390              0.360   \n",
      "2          -0.034               0.070           0.042              0.072   \n",
      "3           0.147               0.078           0.289              0.079   \n",
      "4          -0.090               0.180           0.100              0.140   \n",
      "\n",
      "  koi_dikco_mra  koi_dikco_mra_err  koi_dikco_mdec  koi_dikco_mdec_err  \\\n",
      "0         0.080              0.130           0.310               0.170   \n",
      "1         0.490              0.340           0.120               0.730   \n",
      "2         0.002              0.071          -0.027               0.074   \n",
      "3        -0.257              0.072           0.099               0.077   \n",
      "4         0.070              0.180           0.020               0.160   \n",
      "\n",
      "   koi_dikco_msky  koi_dikco_msky_err  \n",
      "0           0.320               0.160  \n",
      "1           0.500               0.450  \n",
      "2           0.027               0.074  \n",
      "3           0.276               0.076  \n",
      "4           0.070               0.200  \n",
      "\n",
      "[5 rows x 141 columns]\n",
      "\n",
      "Dataset Info:\n",
      "<class 'pandas.core.frame.DataFrame'>\n",
      "RangeIndex: 9564 entries, 0 to 9563\n",
      "Columns: 141 entries, rowid to koi_dikco_msky_err\n",
      "dtypes: float64(117), int64(7), object(17)\n",
      "memory usage: 10.3+ MB\n",
      "\n",
      "Missing Values per Column:\n",
      "rowid                  0\n",
      "kepid                  0\n",
      "kepoi_name             0\n",
      "kepler_name         6817\n",
      "koi_disposition        0\n",
      "koi_vet_stat           0\n",
      "koi_vet_date           0\n",
      "koi_pdisposition       0\n",
      "koi_score           1510\n",
      "koi_fpflag_nt          0\n",
      "koi_fpflag_ss          0\n",
      "koi_fpflag_co          0\n",
      "koi_fpflag_ec          0\n",
      "koi_disp_prov          0\n",
      "koi_comment         1209\n",
      "dtype: int64\n"
     ]
    }
   ],
   "source": [
    "import pandas as pd\n",
    "\n",
    "# Load dataset properly\n",
    "df = pd.read_csv(\n",
    "    \"keplar_dataset.csv\",\n",
    "    sep=\",\",             # Correct separator\n",
    "    comment=\"#\",         # Skip metadata lines\n",
    "    skipinitialspace=True\n",
    ")\n",
    "\n",
    "# Strip whitespace from headers\n",
    "df.columns = df.columns.str.strip()\n",
    "\n",
    "# ---- Dataset Summary ----\n",
    "print(\"✅ Dataset successfully loaded and parsed!\\n\")\n",
    "print(\"Shape:\", df.shape)\n",
    "print(\"Columns:\", df.columns.tolist()[:15], \"...\")  # show first 15 cols only\n",
    "\n",
    "print(\"\\nFirst 5 rows of dataset:\")\n",
    "print(df.head())\n",
    "\n",
    "print(\"\\nDataset Info:\")\n",
    "df.info()\n",
    "\n",
    "print(\"\\nMissing Values per Column:\")\n",
    "print(df.isnull().sum().head(15))  # show first 15 cols"
   ]
  },
  {
   "cell_type": "code",
   "execution_count": 11,
   "id": "19dda73a",
   "metadata": {},
   "outputs": [
    {
     "name": "stdout",
     "output_type": "stream",
     "text": [
      "Planet dispositions: koi_disposition\n",
      "FALSE POSITIVE    4839\n",
      "CONFIRMED         2746\n",
      "CANDIDATE         1979\n",
      "Name: count, dtype: int64 \n",
      "\n",
      "Number of confirmed exoplanets: 2746\n",
      "Average radius (Earth radii): 2.8573724489795915\n",
      "Potential habitable candidates: 61\n"
     ]
    }
   ],
   "source": [
    "# Unique dispositions\n",
    "print(\"Planet dispositions:\", df['koi_disposition'].value_counts(), \"\\n\")\n",
    "\n",
    "# How many confirmed planets\n",
    "print(\"Number of confirmed exoplanets:\", (df['koi_disposition'] == \"CONFIRMED\").sum())\n",
    "\n",
    "# Average radius of confirmed planets\n",
    "print(\"Average radius (Earth radii):\", df.loc[df['koi_disposition']==\"CONFIRMED\", 'koi_prad'].mean())\n",
    "\n",
    "# Small habitable-zone candidates (example filter)\n",
    "habitable_candidates = df[\n",
    "    (df['koi_disposition']==\"CANDIDATE\") &\n",
    "    (df['koi_prad'] < 2.0) &                   # smaller than 2 Earth radii\n",
    "    (df['koi_insol'].between(0.5, 2.0))        # roughly Earth-like flux\n",
    "]\n",
    "print(\"Potential habitable candidates:\", habitable_candidates.shape[0])\n"
   ]
  }
 ],
 "metadata": {
  "kernelspec": {
   "display_name": "Python 3",
   "language": "python",
   "name": "python3"
  },
  "language_info": {
   "codemirror_mode": {
    "name": "ipython",
    "version": 3
   },
   "file_extension": ".py",
   "mimetype": "text/x-python",
   "name": "python",
   "nbconvert_exporter": "python",
   "pygments_lexer": "ipython3",
   "version": "3.13.1"
  }
 },
 "nbformat": 4,
 "nbformat_minor": 5
}
